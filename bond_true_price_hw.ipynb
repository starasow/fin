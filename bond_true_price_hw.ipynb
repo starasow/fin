{
  "nbformat": 4,
  "nbformat_minor": 0,
  "metadata": {
    "kernelspec": {
      "display_name": "Python 3 (system-wide)",
      "language": "python",
      "metadata": {
        "cocalc": {
          "description": "Python 3 programming language",
          "priority": 100,
          "url": "https://www.python.org/"
        }
      },
      "name": "python3",
      "resource_dir": "/ext/jupyter/kernels/python3"
    },
    "language_info": {
      "codemirror_mode": {
        "name": "ipython",
        "version": 3
      },
      "file_extension": ".py",
      "mimetype": "text/x-python",
      "name": "python",
      "nbconvert_exporter": "python",
      "pygments_lexer": "ipython3",
      "version": "3.6.9"
    },
    "colab": {
      "name": "Sergey Tarasow - true_price_hw.ipynb",
      "provenance": [],
      "collapsed_sections": []
    }
  },
  "cells": [
    {
      "cell_type": "markdown",
      "metadata": {
        "collapsed": false,
        "id": "7fRR4H68aZ9R"
      },
      "source": [
        "Вы сдаете в аренду помещения и получили предложение арендовать площади в количестве 780 м. кв. по установленной вами на основе рыночных данных цене 1500 руб. за 1 м. кв. в месяц, сроком на 1 год.\n",
        "\n",
        "Вам предлагают следующую схему оплаты:\n",
        "\n",
        "* разовый платеж в сумме 840 000 руб., затем,\n",
        "* в конце 3-го, 4-го и 5-го месяцев платежи в размере 1.2 млн руб.,\n",
        "* в начале 7-го, 8-го и 10-го месяцев – 1.2 млн руб. и\n",
        "* в конце 12-го месяца – внесение последнего платежа в сумме 6 млн руб.\n",
        "\n",
        "Выгодно ли данное предложение, если по стандартным условиям оплаты является ежемесячное внесение платежа равными долями? Ставка рефинансирования ЦБ равна 4.5% годовых."
      ]
    },
    {
      "cell_type": "markdown",
      "metadata": {
        "collapsed": false,
        "id": "tzBQBJkHaZ9H"
      },
      "source": [
        "## Задача 1"
      ]
    },
    {
      "cell_type": "code",
      "metadata": {
        "colab": {
          "base_uri": "https://localhost:8080/"
        },
        "id": "5Q08inP8ajsB",
        "outputId": "4792dd99-4c9e-4455-9578-0b4d44a9dc8f"
      },
      "source": [
        "import numpy as np\n",
        "sq_m = 780\n",
        "monthly_per_sq_m = 1500\n",
        "months = 12\n",
        "rate = 4.5\n",
        "\n",
        "def standart_scheme(sq_m, monthly_per_sq_m, months, rate):\n",
        "  PV = 0\n",
        "  for k in range(1, months + 1):\n",
        "    PV += monthly_per_sq_m * sq_m / ((1 + rate/100) ** (k/12))\n",
        "  return PV\n",
        "\n",
        "def custom_scheme(rate):\n",
        "  PV = 840000\n",
        "  pay_months = [3, 4, 5, 7, 8, 10]\n",
        "  for k in pay_months:\n",
        "    PV +=  1200000 / ((1 + rate/100) ** (k/12))\n",
        "  PV += 6000000 / (1 + rate / 100) \n",
        "  return PV\n",
        "\n",
        "print('standard scheme:', round(standart_scheme(sq_m, monthly_per_sq_m, months, rate), 2))\n",
        "print('custom scheme:', round(custom_scheme(rate), 2))\n",
        "print('difference = ', round(standart_scheme(sq_m, monthly_per_sq_m, months, rate) - custom_scheme(rate), 2))\n"
      ],
      "execution_count": null,
      "outputs": [
        {
          "output_type": "stream",
          "text": [
            "standard scheme: 13710309.74\n",
            "custom scheme: 13620867.2\n",
            "difference =  89442.55\n"
          ],
          "name": "stdout"
        }
      ]
    },
    {
      "cell_type": "markdown",
      "metadata": {
        "id": "MscrgeB5M30N"
      },
      "source": [
        "Ответ: нет, данное предложение невыгодно, стандартная схема выгоднее на 89 442.55 руб."
      ]
    },
    {
      "cell_type": "code",
      "metadata": {
        "id": "SzBZaw5PRPyy"
      },
      "source": [
        ""
      ],
      "execution_count": null,
      "outputs": []
    },
    {
      "cell_type": "markdown",
      "metadata": {
        "collapsed": false,
        "id": "QFs8RIPlaZ9V"
      },
      "source": [
        "## Задача 2"
      ]
    },
    {
      "cell_type": "markdown",
      "metadata": {
        "collapsed": false,
        "id": "DfVZRhj6aZ9a"
      },
      "source": [
        "Есть 2 возможности для вложения средств:\n",
        "1. Депозит по ставке   4.56% на срок до 29.01.2023 с ежедневной капитализацией процентов\n",
        "2. ОФЗ 26211 https://smart-lab.ru/q/bonds/SU26211RMFS1/ , доходность к погашению 4.68% годовых.\n",
        "\n",
        "Предположим, что 30.09.2020 вы выбираете купить на  100 000 рублей облигаций или положить ту же сумму на депозит?\n",
        "\n",
        "1. Сколько облигаций вы сможете купить на эти деньги?\n",
        "2. Посчитайте чистую и грязную цену облигации.\n",
        "3. Какой инструмент инвестирования вы выберете и почему?\n"
      ]
    },
    {
      "cell_type": "code",
      "metadata": {
        "id": "wn4VMNCwaZ9b",
        "colab": {
          "base_uri": "https://localhost:8080/"
        },
        "outputId": "6de926a1-e207-47d8-c17f-bdf2280cd0ee"
      },
      "source": [
        "import datetime as dt\n",
        "import pandas as pd\n",
        "import numpy as np\n",
        "\n",
        "start_date = '30-09-2020' \n",
        "end_date = '25-01-2023'\n",
        "delta = pd.to_datetime(end_date) - pd.to_datetime(start_date)\n",
        "rate = 4.56\n",
        "sum = 100000\n",
        "\n",
        "def daily_deposit(delta, rate, sum):\n",
        "  print(\"number of days:\", delta.days) \n",
        "  FV = sum * ((1 + rate /100 / 365) ** delta.days)\n",
        "  return FV\n",
        "\n",
        "print(\"deposit:\", round(daily_deposit(delta, rate, sum) ,  2), \"- to 25.01.2023, bond maturity date\")   \n",
        "#day count convention =  ACT / 365\n",
        "face_value = 1000\n",
        "coupon_rate = 3.5 # paid semiannually\n",
        "dates = ['27-01-2021', '28-07-2021', '26-01-2022', '27-07-2022', '25-01-2023']\n",
        "for i in range(len(dates) - 1): \n",
        "    coupon_delta = pd.to_datetime(dates[i + 1]) - pd.to_datetime(dates[i])\n",
        "    #print(coupon_delta.days) #182\n",
        "\n",
        "#coupons are paid in 182 days - actual\n",
        "act = 182 \n",
        "YTM = 4.68\n",
        "def bond (act, dates, sum, face_value, coupon_rate, start_date, YTM):\n",
        "  price_dirty = 0\n",
        "  coupons = coupon_rate * face_value / 100 #coupons paid \n",
        "  days_from_latest_coupon = pd.to_datetime(dates[0]) - pd.to_datetime(start_date)\n",
        "  accrued_interest = coupons * (act - days_from_latest_coupon.days) / 365 \n",
        "  print(\"coupons\",coupons, \"NKD\", accrued_interest, (act - days_from_latest_coupon.days),coupons)\n",
        "  \n",
        "  #clean_price \n",
        "  for i in range(len(dates)):\n",
        "    price_dirty = price_dirty + coupons / pow(1 + YTM/100, ((pd.to_datetime(dates[i]) - pd.to_datetime(start_date)).days)/365)\n",
        "    #print (price_dirty)\n",
        "  \n",
        "  price_dirty = price_dirty + face_value / pow(1 + YTM/100, ((pd.to_datetime(dates[len(dates)-1]) - pd.to_datetime(start_date)).days)/365)\n",
        "  #print(price_dirty, face_value, pow(1 + YTM/100, ((pd.to_datetime(dates[len(dates)-1]) - pd.to_datetime(start_date)).days)/365))\n",
        "  price_clean = price_dirty - accrued_interest\n",
        "  number_of_bonds = sum / price_dirty\n",
        "  \n",
        "\n",
        "  print(\"number of bonds:\", np.floor(number_of_bonds))\n",
        "  print(\"clean price:\",  round(price_clean, 2),  \"dirty_price:\", round(price_dirty, 2))\n",
        "  FV = number_of_bonds * (coupons * len(dates) + face_value)\n",
        "  return FV\n",
        "  \n",
        "print(\"bond:\", round(bond(act, dates, sum, face_value, coupon_rate, start_date, YTM), 2))  "
      ],
      "execution_count": null,
      "outputs": [
        {
          "output_type": "stream",
          "text": [
            "number of days: 847\n",
            "deposit: 111161.11 - to 25.01.2023, bond maturity date\n",
            "coupons 35.0 NKD 6.041095890410959 63 35.0\n",
            "number of bonds: 93.0\n",
            "clean price: 1058.07 dirty_price: 1064.11\n",
            "bond: 110420.96\n"
          ],
          "name": "stdout"
        }
      ]
    },
    {
      "cell_type": "markdown",
      "metadata": {
        "id": "ptprAw2W7OkV"
      },
      "source": [
        "Ответ:\n",
        "1. Можно купить 94 облигации\n",
        "2. Чистая цена = 1051.6 руб., грязная = 1057.64 руб.\n",
        "3. Сравним доход в один момент времени: 25.01.23 - дата последней выплаты по облигации. К этому времени депозит с ежедневной капитализацией процентов будет равен 111161.11 руб., а сумма всех выплат по облигации 110420.96 руб. Разница незначительна ( $<$ 1000 руб.), поэтому выбирать надо из соображений что важнее: финальная сумма или равномерный cashflow (ведь с депозита нельзя снять часть денег). Я выберу облигацию из-за равномерности выплат. "
      ]
    },
    {
      "cell_type": "code",
      "metadata": {
        "id": "BNqiSyx0GvMv"
      },
      "source": [
        ""
      ],
      "execution_count": null,
      "outputs": []
    }
  ]
}