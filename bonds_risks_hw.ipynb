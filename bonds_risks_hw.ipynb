{
 "cells": [
  {
   "cell_type": "markdown",
   "metadata": {
    "id": "iiJIHu9G4NKQ"
   },
   "source": [
    "# Задача 1 \n",
    "Посчитать численно $DV01$ как разностную производную.\n",
    "1. Номер выпуска облигации определяет функция getBond ниже \n",
    "1. Процентные ставки известны ниже curve_tenors, curve_rates\n",
    "1. Использоватье линейнйую интерполяцию кубическими сплайнами (см. пример ниже)"
   ]
  },
  {
   "cell_type": "markdown",
   "metadata": {
    "id": "Ve1AmpcX4NKj"
   },
   "source": [
    "$$ PV  = PV (r_1, r_2, r_3, ..., r_N) = \\sum \\limits_{i=1}^{N} \\frac{C_i}{(1 + r_i)^{t_i}} $$\n",
    "где $r_i$ - значение ставки, $C_i$ - выплата в день купонного платежа под номером $i$\n",
    "\n",
    "$$ DV01 (r_1, r_2,  ..., r_N) = \\lim \\limits_{\\delta \\to 0} \\frac{PV (r_1 + \\delta r, r_2 + \\delta r, ..., r_N + \\delta r) - PV (r_1, r_2,  ..., r_N)}{\\delta r}  \\approx\n",
    "\\frac{PV (r_1 + \\Delta r, r_2 + \\Delta r, ..., r_N + \\Delta r) - PV (r_1, r_2,  ..., r_N)}{\\Delta r}$$"
   ]
  },
  {
   "cell_type": "code",
   "execution_count": 39,
   "metadata": {
    "id": "uDipPix64NKk"
   },
   "outputs": [],
   "source": [
    "def getBond(email):\n",
    "    ccy = ['53004RMFS', '53003RMFS', '53005RMFS']\n",
    "    h = hash(email)\n",
    "    return ccy[h % len(ccy)]\n",
    "getBond('tarasow.se.al@gmail.com')\n",
    "\n",
    "import numpy as np\n",
    "import scipy.interpolate\n",
    "import pandas as pd\n",
    "import matplotlib.pyplot as plt"
   ]
  },
  {
   "cell_type": "markdown",
   "metadata": {
    "id": "DBNMPfN96Ehw"
   },
   "source": [
    "day count convention \n",
    "1. \t2020-03-04 \t184 \t6.50% \t32.77 \t\t\t\n",
    "2. \t2020-09-02 \t182 \t7.00% \t34.90 \t\t\t\n",
    "3. \t2021-03-03 \t182 \t7.05% \t35.15 \t\t\n",
    "4. \t2021-09-01 \t182 \t7.10% \t35.40 \t\t\n",
    "5. \t2022-03-02 \t182 \t7.25% \t36.15 \t\t\n",
    "6. \t2022-08-31 \t182 \t7.35% \t36.65\n",
    "\n",
    "Последний день размещения: 2020.02.25, считаем PV на эту дату"
   ]
  },
  {
   "cell_type": "code",
   "execution_count": 2,
   "metadata": {
    "colab": {
     "base_uri": "https://localhost:8080/",
     "height": 384
    },
    "id": "Yj-9_aru4NKs",
    "outputId": "80c59d16-f30a-46c0-91fb-0af24a051d2f"
   },
   "outputs": [
    {
     "name": "stdout",
     "output_type": "stream",
     "text": [
      "8 days 00:00:00\n",
      "fraction of year [0.02191781 0.52054795 1.01917808 1.51780822 2.01643836 2.51506849]\n",
      "present_value 1089.410361197473\n",
      "discount factors [0.99910905 0.97874401 0.95776648 0.93597612 0.91339792 0.89007188]\n"
     ]
    },
    {
     "data": {
      "image/png": "[encoded data removed]",
      "text/plain": [
       "<Figure size 432x288 with 1 Axes>"
      ]
     },
     "metadata": {
      "needs_background": "light",
      "tags": []
     },
     "output_type": "display_data"
    },
    {
     "name": "stdout",
     "output_type": "stream",
     "text": [
      "dv01 =  0.11853961002668711\n"
     ]
    }
   ],
   "source": [
    "#'53004RFMS'\n",
    "print(pd.to_datetime('2020.03.04') - pd.to_datetime('2020.02.25')) #8 days \n",
    "\n",
    "days = np.array([8, 182, 182, 182, 182, 182])\n",
    "coupons = np.array([32.77, 34.90, 35.15, 35.40, 36.15, 1036.65])\n",
    "curve_tenors = np.array([0.0, 0.25, 0.5, 0.75, 1.0, 2.0, 3.0, 5.0, 7.0, 10.0, 15.0, 20.0, 30.0])\n",
    "curve_rates = np.array([4.15, 4.17,4.21,4.26,4.32,4.59,4.88,5.41,5.83,6.26,6.62,6.79,6.98])*1e-2\n",
    "fraction_of_year = np.cumsum(days)/365.0 \n",
    "\n",
    "print('fraction of year', fraction_of_year)\n",
    "def rates(curve_rates, curve_tenors, fraction_of_year):\n",
    "    f = scipy.interpolate.interp1d(curve_tenors, curve_rates, kind = 'cubic')\n",
    "    return f(fraction_of_year) #interpolating rates\n",
    "\n",
    "def df(interpolated_rates, fraction_of_year):\n",
    "    df = np.power(1.0 / (interpolated_rates + 1.0), fraction_of_year)\n",
    "    return df\n",
    "\n",
    "def pv(coupons, curve_rates, curve_tenors, fraction_of_year):\n",
    "    interpolated_rates = rates(curve_rates, curve_tenors, fraction_of_year)\n",
    "    discount_factors = df(interpolated_rates, fraction_of_year)\n",
    "    return np.sum(coupons * discount_factors)\n",
    "\n",
    "interpolated_rates = rates(curve_rates, curve_tenors, fraction_of_year)\n",
    "discount_factors = df(interpolated_rates, fraction_of_year)\n",
    "present_value = pv(coupons, curve_rates, curve_tenors, fraction_of_year)\n",
    "print('present_value', present_value)\n",
    "print('discount factors', df(interpolated_rates, fraction_of_year))\n",
    "\n",
    "fig, ax = plt.subplots()\n",
    "ax.plot(fraction_of_year, discount_factors)\n",
    "ax.set(xlabel='fraction of year', ylabel='rates', title='interpolated rates')\n",
    "plt.show()\n",
    "\n",
    "dv01 = 0.5*(pv(coupons, curve_rates, curve_tenors - 1e-4, fraction_of_year) - pv(coupons, curve_rates + 1e-4, curve_tenors, fraction_of_year))\n",
    "print('dv01 = ', dv01) #positive, assuming rates are decreasing"
   ]
  },
  {
   "cell_type": "markdown",
   "metadata": {
    "id": "chRthxiI4NLB"
   },
   "source": [
    "# Задача 2\n",
    "\n",
    "1. Таблица ниже описывает облигацию, необходимо ее захеджировать [ОФЗ](https://special.minfin.gov.ru/ru/document/?id_4=130822-parametry_obligatsii_federalnogo_zaima_dlya_fizicheskikh_lits_ofz-n_vypuska__53006rmfs) \n",
    "\n",
    "Использовать для расчета $DV01$ [кривую](https://www.moex.com/ru/marketdata/indices/state/g-curve/)\n",
    "\n",
    "Чему равна $beta$?\n",
    "\n",
    "\n",
    "| Date | Coupon |\n",
    "|-------|-----------|\n",
    "| 2021-02-24 | 34.9 |\n",
    "| 2021-08-25 | 34.9|\n",
    "| 2022-02-23 | 34.9|\n",
    "| 2022-08-24 | 34.9 |\n",
    "| 2023-02-22 | 34.9 |\n",
    "| 2023-08-23 | 1034.9|\n",
    "\n",
    "2. Построить график $PV$ портфеля от величины вертикального сдвига кривой $\\Delta$\n",
    "$$ PV (r; \\Delta) = PV (r_1 + \\Delta, r_2+ \\Delta, r_3+ \\Delta, ..., r_N+ \\Delta) = \\sum \\limits_{i=1}^{N} \\frac{C_i}{(1 + r_i + \\Delta)^{t_i}} $$\n",
    "\n",
    "\n",
    "\n"
   ]
  },
  {
   "cell_type": "markdown",
   "metadata": {
    "id": "Ut5VN2OmvDa0"
   },
   "source": [
    "#1. Расчёт $\\beta$\n",
    "\n",
    "$\\dfrac{d}{dr}(PV_{trade} + \\beta PV_{hedge}) = 0 \\Rightarrow \\beta = - \\dfrac{dv_{01}(PV_{trade})}{dv_{01}(PV_{hedge})}$   \n",
    "Данные ОФЗ: \n",
    "1.  03.02.2021 \t202 \t4,10% \t22,69 \t\t\n",
    "2. \t04.08.2021 \t182 \t4,40% \t21,94 \t\t\n",
    "3. \t02.02.2022 \t182 \t4,70% \t23,44 \t\t\n",
    "4. \t03.08.2022 \t182 \t5,00% \t24,93 \t\t\n",
    "5. \t01.02.2023 \t182 \t5,30% \t26,43 \t\t\n",
    "6. \t02.08.2023 \t182 \t5,73% \t28,57 \t"
   ]
  },
  {
   "cell_type": "code",
   "execution_count": 49,
   "metadata": {
    "colab": {
     "base_uri": "https://localhost:8080/"
    },
    "id": "wtPFHjfTdRzU",
    "outputId": "aed9e4e6-6583-4e6e-b6da-52f42fdef86a"
   },
   "outputs": [
    {
     "name": "stdout",
     "output_type": "stream",
     "text": [
      "PV hedge = 772.0705420042517\n",
      "PV trade = 747.8193235479117\n",
      "beta =  -1.134671845265287\n"
     ]
    }
   ],
   "source": [
    "dates_trade = ['2021-02-24', '2021-08-25', '2022-02-23', '2022-08-24', '2023-02-22', '2023-08-23']\n",
    "days_trade = np.array((pd.to_datetime(dates_trade) - pd.to_datetime('22.01.2021')).days) #последняя дата размещения ОФЗ -- 22.01.2021, cчитаем от нее\n",
    "coupons_trade = np.array([34.9, 34.9, 34.9, 34.9, 34.9, 1034.9])\n",
    "fraction_of_year_trade = np.cumsum(days_trade) / 365.0\n",
    "\n",
    "dates_hedge = ['03.02.2021', '04.08.2021', '02.02.2022', '03.08.2022', '01.02.2023', '02.08.2023']\n",
    "days_hedge = np.array((pd.to_datetime(dates_hedge) - pd.to_datetime('22.01.2021')).days)\n",
    "coupons_hedge = np.array([22.69, 21.94, 23.44, 24.93, 26.43, 1028.57])\n",
    "fraction_of_year_hedge = np.cumsum(days_hedge) / 365.0\n",
    "\n",
    "curve_tenors = np.array([0.01, 0.25, 0.5, 0.75, 1, 2, 3, 5, 7, 10, 15, 20, 30])\n",
    "curve_rates = np.array([4.95, 4.96,\t4.99,\t5.06,\t5.16,\t5.66,\t6.13,\t6.75,\t7.06,\t7.25,\t7.39,\t7.47, 7.5])*1e-2\n",
    "\n",
    "pv_trade = pv(coupons_trade, curve_rates, curve_tenors, fraction_of_year_trade)\n",
    "pv_hedge = pv(coupons_hedge, curve_rates, curve_tenors, fraction_of_year_hedge)\n",
    "\n",
    "print('PV hedge =', pv_hedge)\n",
    "print('PV trade =', pv_trade)\n",
    "\n",
    "dv01_trade = 0.5*(pv(coupons_trade, curve_rates - 1e-4, curve_tenors, fraction_of_year_trade) - pv(coupons_trade, curve_rates + 1e-4, curve_tenors, fraction_of_year_trade))\n",
    "dv01_hedge = 0.5*(pv(coupons_hedge, curve_rates - 1e-4, curve_tenors, fraction_of_year_hedge) -  pv(coupons_hedge, curve_rates + 1e-4, curve_tenors, fraction_of_year_hedge))\n",
    "beta = - float(dv01_trade / dv01_hedge)\n",
    "\n",
    "print('beta = ', beta)"
   ]
  },
  {
   "cell_type": "markdown",
   "metadata": {
    "id": "ASdXtRusvPDo"
   },
   "source": [
    "#2. График PV от $\\Delta$"
   ]
  },
  {
   "cell_type": "code",
   "execution_count": 50,
   "metadata": {
    "colab": {
     "base_uri": "https://localhost:8080/",
     "height": 283
    },
    "id": "gr7WC1O_dikU",
    "outputId": "f40797ff-3b17-49b9-c27a-e9753ae6cf82"
   },
   "outputs": [
    {
     "data": {
      "text/plain": [
       "[<matplotlib.lines.Line2D at 0x7f6e68ac2450>]"
      ]
     },
     "execution_count": 50,
     "metadata": {
      "tags": []
     },
     "output_type": "execute_result"
    },
    {
     "data": {
      "image/png": "[encoded data removed]",
      "text/plain": [
       "<Figure size 432x288 with 1 Axes>"
      ]
     },
     "metadata": {
      "needs_background": "light",
      "tags": []
     },
     "output_type": "display_data"
    }
   ],
   "source": [
    "dr = np.arange(-0.1, 0.1, 1e-3)\n",
    "pv_hedge, pv_trade, total_pv = [], [], []\n",
    "\n",
    "for x in dr:\n",
    "     pv_hedge += [pv(coupons_hedge, curve_rates + x, curve_tenors, fraction_of_year_hedge)]\n",
    "     pv_trade += [pv(coupons_trade, curve_rates + x, curve_tenors, fraction_of_year_trade)]\n",
    "     total_pv += [pv(coupons_hedge, curve_rates + x, curve_tenors, fraction_of_year_hedge) * beta + pv(coupons_trade, curve_rates + x, curve_tenors, fraction_of_year_trade)]\n",
    "\n",
    "plt.plot(dr, pv_hedge)\n",
    "plt.plot(dr, pv_trade)\n",
    "plt.plot(dr, total_pv)\n"
   ]
  },
  {
   "cell_type": "code",
   "execution_count": null,
   "metadata": {
    "id": "dfQ_s23jAGIs"
   },
   "outputs": [],
   "source": []
  }
 ],
 "metadata": {
  "colab": {
   "collapsed_sections": [],
   "name": "\"bonds_risks_hw_tarasow.ipynb\"",
   "provenance": []
  },
  "kernelspec": {
   "display_name": "Python 3",
   "language": "python",
   "name": "python3"
  },
  "language_info": {
   "codemirror_mode": {
    "name": "ipython",
    "version": 3
   },
   "file_extension": ".py",
   "mimetype": "text/x-python",
   "name": "python",
   "nbconvert_exporter": "python",
   "pygments_lexer": "ipython3",
   "version": "3.8.3"
  }
 },
 "nbformat": 4,
 "nbformat_minor": 1
}
